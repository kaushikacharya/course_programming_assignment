{
 "cells": [
  {
   "cell_type": "markdown",
   "metadata": {
    "id": "GOTBMxAJalP6"
   },
   "source": [
    "# Deep Learning with PyTorch Step-by-Step: A Beginner's Guide"
   ]
  },
  {
   "cell_type": "markdown",
   "metadata": {
    "id": "FvOcK5wmalP6"
   },
   "source": [
    "# Saving and Loading Models"
   ]
  },
  {
   "cell_type": "code",
   "execution_count": 1,
   "metadata": {
    "id": "-EgSsjI6alP7"
   },
   "outputs": [],
   "source": [
    "import numpy as np\n",
    "import torch\n",
    "import torch.optim as optim\n",
    "import torch.nn as nn\n",
    "from torch.utils.data import Dataset, TensorDataset, DataLoader\n",
    "from torch.utils.data.dataset import random_split\n",
    "from torch.utils.tensorboard import SummaryWriter\n",
    "\n",
    "import matplotlib.pyplot as plt\n",
    "%matplotlib inline\n",
    "plt.style.use('fivethirtyeight')"
   ]
  },
  {
   "cell_type": "code",
   "execution_count": 2,
   "metadata": {
    "id": "Lc19G-dhalP8"
   },
   "outputs": [],
   "source": [
    "from plots.chapter2 import *"
   ]
  },
  {
   "cell_type": "markdown",
   "metadata": {
    "id": "2DjZDcl9alP8"
   },
   "source": [
    "## Helper Functions"
   ]
  },
  {
   "cell_type": "code",
   "execution_count": 3,
   "metadata": {
    "id": "itpTbpEMalP9"
   },
   "outputs": [],
   "source": [
    "def make_train_step(model, loss_fn, optimizer):\n",
    "    # Builds function that performs a step in the train loop\n",
    "    def perform_train_step(x, y):\n",
    "        # Sets model to TRAIN mode\n",
    "        model.train()\n",
    "        \n",
    "        # Step 1 - computes model's predictions - forward pass\n",
    "        yhat = model(x)\n",
    "        # Step 2 - computes the loss\n",
    "        loss = loss_fn(yhat, y)\n",
    "        # Step 3 - computes gradients for \"b\" and \"w\" parameters\n",
    "        loss.backward()\n",
    "        # Step 4 - updates parameters using gradients and\n",
    "        # the learning rate\n",
    "        optimizer.step()\n",
    "        optimizer.zero_grad()\n",
    "        \n",
    "        # Returns the loss\n",
    "        return loss.item()\n",
    "    \n",
    "    # Returns the function that will be called inside the \n",
    "    # train loop\n",
    "    return perform_train_step"
   ]
  },
  {
   "cell_type": "code",
   "execution_count": 4,
   "metadata": {
    "id": "CruSFBYEalP9"
   },
   "outputs": [],
   "source": [
    "def mini_batch(device, data_loader, step):\n",
    "    mini_batch_losses = []\n",
    "    for x_batch, y_batch in data_loader:\n",
    "        x_batch = x_batch.to(device)\n",
    "        y_batch = y_batch.to(device)\n",
    "\n",
    "        mini_batch_loss = step(x_batch, y_batch)\n",
    "        mini_batch_losses.append(mini_batch_loss)\n",
    "\n",
    "    loss = np.mean(mini_batch_losses)\n",
    "    return loss"
   ]
  },
  {
   "cell_type": "code",
   "execution_count": 5,
   "metadata": {
    "id": "tBxyEtKyalP-"
   },
   "outputs": [],
   "source": [
    "def make_val_step(model, loss_fn):\n",
    "    # Builds function that performs a step \n",
    "    # in the validation loop\n",
    "    def perform_val_step(x, y):\n",
    "        # Sets model to EVAL mode\n",
    "        model.eval()     \n",
    "        \n",
    "        # Step 1 - Computes our model's predicted output\n",
    "        # forward pass\n",
    "        yhat = model(x)\n",
    "        # Step 2 - Computes the loss\n",
    "        loss = loss_fn(yhat, y)\n",
    "        # There is no need to compute Steps 3 and 4, \n",
    "        # since we don't update parameters during evaluation\n",
    "        return loss.item()\n",
    "    \n",
    "    return perform_val_step"
   ]
  },
  {
   "cell_type": "markdown",
   "metadata": {
    "id": "qG-Q3e3_alP-"
   },
   "source": [
    "## Data Generation"
   ]
  },
  {
   "cell_type": "code",
   "execution_count": 6,
   "metadata": {
    "id": "LubzZbXHalP-"
   },
   "outputs": [],
   "source": [
    "true_b = 1\n",
    "true_w = 2\n",
    "N = 100\n",
    "\n",
    "# Data Generation\n",
    "np.random.seed(42)\n",
    "x = np.random.rand(N, 1)\n",
    "epsilon = (.1 * np.random.randn(N, 1))\n",
    "y = true_b + true_w * x + epsilon"
   ]
  },
  {
   "cell_type": "markdown",
   "metadata": {
    "id": "aCRdeor0alP_"
   },
   "source": [
    "### Generating training and validation sets"
   ]
  },
  {
   "cell_type": "code",
   "execution_count": 7,
   "metadata": {
    "id": "6O0bGIWYalP_"
   },
   "outputs": [],
   "source": [
    "# Shuffles the indices\n",
    "idx = np.arange(N)\n",
    "np.random.shuffle(idx)\n",
    "\n",
    "# Uses first 80 random indices for train\n",
    "train_idx = idx[:int(N*.8)]\n",
    "# Uses the remaining indices for validation\n",
    "val_idx = idx[int(N*.8):]\n",
    "\n",
    "# Generates train and validation sets\n",
    "x_train, y_train = x[train_idx], y[train_idx]\n",
    "x_val, y_val = x[val_idx], y[val_idx]"
   ]
  },
  {
   "cell_type": "markdown",
   "metadata": {
    "id": "wX8pKQdoalQA"
   },
   "source": [
    "## Full Pipeline"
   ]
  },
  {
   "cell_type": "code",
   "execution_count": 8,
   "metadata": {
    "id": "lCZW4TtHalQA"
   },
   "outputs": [],
   "source": [
    "%run -i data_preparation/v2.py\n",
    "%run -i model_configuration/v3.py\n",
    "%run -i model_training/v5.py"
   ]
  },
  {
   "cell_type": "markdown",
   "metadata": {
    "id": "hS0IpR5BalQA"
   },
   "source": [
    "## Saving Model"
   ]
  },
  {
   "cell_type": "code",
   "execution_count": 9,
   "metadata": {
    "id": "3y9VL0QZalQA"
   },
   "outputs": [],
   "source": [
    "checkpoint = {'epoch': n_epochs,\n",
    "              'model_state_dict': model.state_dict(),\n",
    "              'optimizer_state_dict': optimizer.state_dict(),\n",
    "              'loss': losses,\n",
    "              'val_loss': val_losses}\n",
    "\n",
    "torch.save(checkpoint, 'model_checkpoint.pth')"
   ]
  },
  {
   "cell_type": "code",
   "execution_count": 10,
   "metadata": {
    "id": "ANno0FyRalQB"
   },
   "outputs": [
    {
     "name": "stdout",
     "output_type": "stream",
     "text": [
      "./model_checkpoint.pth\n"
     ]
    }
   ],
   "source": [
    "## After running this, the model.checkpoint.pth file will show up, meaning the model has been saved\n",
    "!find . -type f -name model_checkpoint.pth"
   ]
  },
  {
   "cell_type": "code",
   "execution_count": 11,
   "metadata": {},
   "outputs": [
    {
     "name": "stdout",
     "output_type": "stream",
     "text": [
      "total 2172\n",
      "-rwxr-xr-x 1 kaushik kaushik    5895 Feb 26 21:55 Autograd.ipynb\n",
      "-rwxr-xr-x 1 kaushik kaushik   12171 Feb 22 13:02 Challenges01_question.ipynb\n",
      "-rwxr-xr-x 1 kaushik kaushik    6121 Mar  3 16:44 Challenges02.ipynb\n",
      "-rwxr-xr-x 1 kaushik kaushik    6100 Mar  5 19:55 Challenges02_question.ipynb\n",
      "-rwxr-xr-x 1 kaushik kaushik 1760231 Feb 21 14:27 Chapter02.ipynb\n",
      "-rwxr-xr-x 1 kaushik kaushik  178228 Mar  3 12:02 Chapter03.ipynb\n",
      "-rwxr-xr-x 1 kaushik kaushik   25311 Mar  1 23:36 Computation_Graph.ipynb\n",
      "-rwxr-xr-x 1 kaushik kaushik    7803 Mar  6 09:47 DataLoader.ipynb\n",
      "-rwxr-xr-x 1 kaushik kaushik   58283 Mar  8 13:54 Evaluation.ipynb\n",
      "-rwxr-xr-x 1 kaushik kaushik    6508 Mar  6 11:14 Mini-batch.ipynb\n",
      "-rwxr-xr-x 1 kaushik kaushik    7074 Mar  2 14:04 Putting_together_part1.ipynb\n",
      "-rwxr-xr-x 1 kaushik kaushik    9999 Mar 10 14:06 Saving_Loading_Models.ipynb\n",
      "-rw-r--r-- 1 kaushik kaushik       0 Mar  8 14:53 Tensorboard.ipynb\n",
      "-rw-r--r-- 1 kaushik kaushik    6240 Mar 10 11:21 Tensorboard_graphs.ipynb\n",
      "-rw-r--r-- 1 kaushik kaushik    6596 Mar 10 11:21 Tensorboard_scalars.ipynb\n",
      "-rw-r--r-- 1 kaushik kaushik    9822 Mar 10 11:22 Tensorboard_training.ipynb\n",
      "-rwxr-xr-x 1 kaushik kaushik    7775 Mar  5 23:07 Train_V1.ipynb\n",
      "drwxr-xr-x 2 kaushik kaushik    4096 Feb 21 13:05 __pycache__\n",
      "-rwxr-xr-x 1 kaushik kaushik    1386 Feb 21 11:51 config_dl.py\n",
      "drwxr-xr-x 2 kaushik kaushik    4096 Feb 21 11:51 data_generation\n",
      "drwxr-xr-x 2 kaushik kaushik    4096 Feb 21 11:51 data_preparation\n",
      "-rwxr-xr-x 1 kaushik kaushik   14194 Feb 21 11:51 files.tar.gz\n",
      "-rwxr-xr-x 1 kaushik kaushik    1653 Feb 21 11:51 helpers.py\n",
      "-rw-r--r-- 1 kaushik kaushik   22155 Mar 10 14:18 model_checkpoint.pth\n",
      "drwxr-xr-x 2 kaushik kaushik    4096 Feb 21 11:51 model_configuration\n",
      "drwxr-xr-x 2 kaushik kaushik    4096 Feb 21 11:51 model_training\n",
      "drwxr-xr-x 3 kaushik kaushik    4096 Feb 21 13:33 plots\n",
      "drwxr-xr-x 4 kaushik kaushik    4096 Mar 10 10:44 runs\n",
      "drwxr-xr-x 2 kaushik kaushik    4096 Feb 21 11:51 stepbystep\n"
     ]
    }
   ],
   "source": [
    "# Added by KA\n",
    "!ls -l"
   ]
  },
  {
   "cell_type": "markdown",
   "metadata": {
    "id": "MmAGGWP7alQB"
   },
   "source": [
    "## Loading Model"
   ]
  },
  {
   "cell_type": "markdown",
   "metadata": {
    "id": "YCMGrkXoalQB"
   },
   "source": [
    "### Going to Untrained Model Stage"
   ]
  },
  {
   "cell_type": "code",
   "execution_count": 12,
   "metadata": {
    "id": "G0E08goNalQB"
   },
   "outputs": [],
   "source": [
    "%run -i data_preparation/v2.py\n",
    "%run -i model_configuration/v3.py"
   ]
  },
  {
   "cell_type": "code",
   "execution_count": 13,
   "metadata": {
    "id": "l5iclBozalQC"
   },
   "outputs": [
    {
     "name": "stdout",
     "output_type": "stream",
     "text": [
      "OrderedDict([('0.weight', tensor([[0.7645]], device='cuda:0')), ('0.bias', tensor([0.8300], device='cuda:0'))])\n"
     ]
    }
   ],
   "source": [
    "# checking model parameters of untrained model\n",
    "print(model.state_dict())"
   ]
  },
  {
   "cell_type": "markdown",
   "metadata": {
    "id": "kJWHCaqLalQC"
   },
   "source": [
    "### Loading the model of when training occurred"
   ]
  },
  {
   "cell_type": "code",
   "execution_count": 14,
   "metadata": {
    "id": "T-6WFXzsalQC"
   },
   "outputs": [
    {
     "name": "stdout",
     "output_type": "stream",
     "text": [
      "Sequential(\n",
      "  (0): Linear(in_features=1, out_features=1, bias=True)\n",
      ")\n"
     ]
    }
   ],
   "source": [
    "# Loading the trained model which we saved earlier\n",
    "checkpoint = torch.load('model_checkpoint.pth')\n",
    "\n",
    "model.load_state_dict(checkpoint['model_state_dict'])\n",
    "optimizer.load_state_dict(checkpoint['optimizer_state_dict'])\n",
    "\n",
    "saved_epoch = checkpoint['epoch']\n",
    "saved_losses = checkpoint['loss']\n",
    "saved_val_losses = checkpoint['val_loss']\n",
    "\n",
    "print(model.train()) # always use TRAIN for resuming training"
   ]
  },
  {
   "cell_type": "markdown",
   "metadata": {
    "id": "6PbmzBPcalQC"
   },
   "source": [
    "### Checking model parameters after loading model"
   ]
  },
  {
   "cell_type": "code",
   "execution_count": 15,
   "metadata": {
    "id": "YyzYv1NyalQD"
   },
   "outputs": [
    {
     "name": "stdout",
     "output_type": "stream",
     "text": [
      "OrderedDict([('0.weight', tensor([[1.9432]], device='cuda:0')), ('0.bias', tensor([1.0263], device='cuda:0'))])\n"
     ]
    }
   ],
   "source": [
    "# checking model parameters\n",
    "print(model.state_dict())"
   ]
  },
  {
   "cell_type": "markdown",
   "metadata": {
    "id": "dyciFp6lbZnG"
   },
   "source": [
    "## Resuming Training"
   ]
  },
  {
   "cell_type": "code",
   "execution_count": 16,
   "metadata": {
    "id": "XfIlo0GubbAd"
   },
   "outputs": [],
   "source": [
    "# running model training v5 script (training for additional 200 epochs)\n",
    "%run -i model_training/v5.py"
   ]
  },
  {
   "cell_type": "code",
   "execution_count": 17,
   "metadata": {
    "id": "yB6yyvxjbogg"
   },
   "outputs": [
    {
     "name": "stdout",
     "output_type": "stream",
     "text": [
      "OrderedDict([('0.weight', tensor([[1.9432]], device='cuda:0')), ('0.bias', tensor([1.0263], device='cuda:0'))])\n"
     ]
    }
   ],
   "source": [
    "# checking model parameters\n",
    "print(model.state_dict())"
   ]
  },
  {
   "cell_type": "markdown",
   "metadata": {
    "id": "TwyjY8T3alQD"
   },
   "source": [
    "## Plotting Losses"
   ]
  },
  {
   "cell_type": "code",
   "execution_count": 18,
   "metadata": {
    "id": "_NrzbEoUalQD"
   },
   "outputs": [
    {
     "data": {
      "image/png": "[encoded data removed]",
      "text/plain": [
       "<Figure size 1000x400 with 1 Axes>"
      ]
     },
     "metadata": {},
     "output_type": "display_data"
    }
   ],
   "source": [
    "fig = plot_resumed_losses(saved_epoch, saved_losses, saved_val_losses, n_epochs, losses, val_losses)"
   ]
  }
 ],
 "metadata": {
  "colab": {
   "collapsed_sections": [
    "2DjZDcl9alP8",
    "qG-Q3e3_alP-",
    "aCRdeor0alP_",
    "wX8pKQdoalQA",
    "hS0IpR5BalQA",
    "MmAGGWP7alQB",
    "YCMGrkXoalQB",
    "kJWHCaqLalQC",
    "6PbmzBPcalQC",
    "dyciFp6lbZnG",
    "TwyjY8T3alQD"
   ],
   "name": "Saving_Loading_Models.ipynb",
   "provenance": []
  },
  "kernelspec": {
   "display_name": "Python 3 (ipykernel)",
   "language": "python",
   "name": "python3"
  },
  "language_info": {
   "codemirror_mode": {
    "name": "ipython",
    "version": 3
   },
   "file_extension": ".py",
   "mimetype": "text/x-python",
   "name": "python",
   "nbconvert_exporter": "python",
   "pygments_lexer": "ipython3",
   "version": "3.10.9"
  }
 },
 "nbformat": 4,
 "nbformat_minor": 1
}
